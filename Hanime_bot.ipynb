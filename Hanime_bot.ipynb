{
  "nbformat": 4,
  "nbformat_minor": 0,
  "metadata": {
    "colab": {
      "provenance": [],
      "authorship_tag": "ABX9TyP7IjSXZ8Y5I6cBPFBfVtdt",
      "include_colab_link": true
    },
    "kernelspec": {
      "name": "python3",
      "display_name": "Python 3"
    },
    "language_info": {
      "name": "python"
    }
  },
  "cells": [
    {
      "cell_type": "markdown",
      "metadata": {
        "id": "view-in-github",
        "colab_type": "text"
      },
      "source": [
        "<a href=\"https://colab.research.google.com/github/biplobhasan2070/hanime-telegram-bot/blob/main/Hanime_bot.ipynb\" target=\"_parent\"><img src=\"https://colab.research.google.com/assets/colab-badge.svg\" alt=\"Open In Colab\"/></a>"
      ]
    },
    {
      "cell_type": "code",
      "execution_count": null,
      "metadata": {
        "id": "F6jElPOOiE5S"
      },
      "outputs": [],
      "source": [
        "!git clone https://github.com/biplobhasan2070/hanime-telegram-bot && cd hanime-telegram-bot && pip install -r requirements.txt && python app.py"
      ]
    }
  ]
}